{
  "nbformat": 4,
  "nbformat_minor": 0,
  "metadata": {
    "colab": {
      "provenance": []
    },
    "kernelspec": {
      "name": "python3",
      "display_name": "Python 3"
    },
    "language_info": {
      "name": "python"
    }
  },
  "cells": [
    {
      "cell_type": "markdown",
      "source": [
        "###**Configuración**"
      ],
      "metadata": {
        "id": "-5Ycb_RydWkW"
      }
    },
    {
      "cell_type": "code",
      "execution_count": 3,
      "metadata": {
        "id": "-boDamzqIOOI"
      },
      "outputs": [],
      "source": [
        "!apt-get install openjdk-11-jdk-headless -qq > /dev/null\n",
        "!wget -q https://downloads.apache.org/spark/spark-3.3.1/spark-3.3.1-bin-hadoop3.tgz\n",
        "!tar xf spark-3.3.1-bin-hadoop3.tgz\n",
        "!pip install -q findspark"
      ]
    },
    {
      "cell_type": "code",
      "source": [
        "import os\n",
        "os.environ[\"JAVA_HOME\"] = \"/usr/lib/jvm/java-11-openjdk-amd64\"\n",
        "os.environ[\"SPARK_HOME\"] = \"/content/spark-3.3.1-bin-hadoop3\""
      ],
      "metadata": {
        "id": "MenI0ZEKIgvo"
      },
      "execution_count": 4,
      "outputs": []
    },
    {
      "cell_type": "code",
      "source": [
        "import findspark\n",
        "findspark.init()\n",
        "from pyspark.sql import SparkSession\n",
        "spark = SparkSession.builder.master(\"local[*]\").getOrCreate()\n",
        "sc = spark.sparkContext"
      ],
      "metadata": {
        "id": "BspoPGmEIknl"
      },
      "execution_count": 5,
      "outputs": []
    },
    {
      "cell_type": "code",
      "source": [
        "spark"
      ],
      "metadata": {
        "colab": {
          "base_uri": "https://localhost:8080/",
          "height": 219
        },
        "id": "Xlt0aQr7InZf",
        "outputId": "3ad88110-fd6f-4ce5-b912-45b97dbf564a"
      },
      "execution_count": 6,
      "outputs": [
        {
          "output_type": "execute_result",
          "data": {
            "text/plain": [
              "<pyspark.sql.session.SparkSession at 0x7fb31e575790>"
            ],
            "text/html": [
              "\n",
              "            <div>\n",
              "                <p><b>SparkSession - in-memory</b></p>\n",
              "                \n",
              "        <div>\n",
              "            <p><b>SparkContext</b></p>\n",
              "\n",
              "            <p><a href=\"http://b0d1df4328c5:4040\">Spark UI</a></p>\n",
              "\n",
              "            <dl>\n",
              "              <dt>Version</dt>\n",
              "                <dd><code>v3.3.1</code></dd>\n",
              "              <dt>Master</dt>\n",
              "                <dd><code>local[*]</code></dd>\n",
              "              <dt>AppName</dt>\n",
              "                <dd><code>pyspark-shell</code></dd>\n",
              "            </dl>\n",
              "        </div>\n",
              "        \n",
              "            </div>\n",
              "        "
            ]
          },
          "metadata": {},
          "execution_count": 6
        }
      ]
    },
    {
      "cell_type": "code",
      "source": [
        "sc"
      ],
      "metadata": {
        "colab": {
          "base_uri": "https://localhost:8080/",
          "height": 196
        },
        "id": "9jVjF9zsIrYp",
        "outputId": "318cecc3-936b-42bc-ca8c-896c3a18b18c"
      },
      "execution_count": 7,
      "outputs": [
        {
          "output_type": "execute_result",
          "data": {
            "text/plain": [
              "<SparkContext master=local[*] appName=pyspark-shell>"
            ],
            "text/html": [
              "\n",
              "        <div>\n",
              "            <p><b>SparkContext</b></p>\n",
              "\n",
              "            <p><a href=\"http://b0d1df4328c5:4040\">Spark UI</a></p>\n",
              "\n",
              "            <dl>\n",
              "              <dt>Version</dt>\n",
              "                <dd><code>v3.3.1</code></dd>\n",
              "              <dt>Master</dt>\n",
              "                <dd><code>local[*]</code></dd>\n",
              "              <dt>AppName</dt>\n",
              "                <dd><code>pyspark-shell</code></dd>\n",
              "            </dl>\n",
              "        </div>\n",
              "        "
            ]
          },
          "metadata": {},
          "execution_count": 7
        }
      ]
    },
    {
      "cell_type": "markdown",
      "source": [
        "###**1. Cargar datos desde Google Drive**"
      ],
      "metadata": {
        "id": "fDZPrBSdiSiC"
      }
    },
    {
      "cell_type": "code",
      "source": [
        "from google.colab import drive\n",
        "drive.mount('/content/gdrive')"
      ],
      "metadata": {
        "colab": {
          "base_uri": "https://localhost:8080/"
        },
        "id": "ZEjy94SCIvL6",
        "outputId": "0c6e0e95-e147-4747-acbc-4e4be8047cc8"
      },
      "execution_count": 8,
      "outputs": [
        {
          "output_type": "stream",
          "name": "stdout",
          "text": [
            "Mounted at /content/gdrive\n"
          ]
        }
      ]
    },
    {
      "cell_type": "code",
      "source": [
        "df=spark.read.csv('gdrive/MyDrive/datasets/covid19/Casos_positivos_de_COVID-19_en_Colombia-100K.csv',inferSchema=True,header=True)"
      ],
      "metadata": {
        "id": "ymXbEviPI4Rl"
      },
      "execution_count": 9,
      "outputs": []
    },
    {
      "cell_type": "markdown",
      "source": [
        "###**2. Análisis exploratorio del dataframe donde cargamos los datos**"
      ],
      "metadata": {
        "id": "j59ZOR6Jjqjg"
      }
    },
    {
      "cell_type": "markdown",
      "source": [
        "####**2.1. Columnas**"
      ],
      "metadata": {
        "id": "4Jw8-MSWkcdX"
      }
    },
    {
      "cell_type": "code",
      "source": [
        "df"
      ],
      "metadata": {
        "colab": {
          "base_uri": "https://localhost:8080/"
        },
        "id": "0dUpB3bTJULi",
        "outputId": "6ae8a04a-b1fa-4732-8537-d4bfbf27f184"
      },
      "execution_count": 10,
      "outputs": [
        {
          "output_type": "execute_result",
          "data": {
            "text/plain": [
              "DataFrame[fecha reporte web: string, ID de caso: int, Fecha de notificación: string, Código DIVIPOLA departamento: int, Nombre departamento: string, Código DIVIPOLA municipio: int, Nombre municipio: string, Edad: int, Unidad de medida de edad: int, Sexo: string, Tipo de contagio: string, Ubicación del caso: string, Estado: string, Código ISO del país: int, Nombre del país: string, Recuperado: string, Fecha de inicio de síntomas: string, Fecha de muerte: string, Fecha de diagnóstico: string, Fecha de recuperación: string, Tipo de recuperación: string, Pertenencia étnica: int, Nombre del grupo étnico: string]"
            ]
          },
          "metadata": {},
          "execution_count": 10
        }
      ]
    },
    {
      "cell_type": "code",
      "source": [
        "df.columns"
      ],
      "metadata": {
        "colab": {
          "base_uri": "https://localhost:8080/"
        },
        "id": "sPPj6Y7lomx4",
        "outputId": "fd269764-aeb2-4d75-a50f-54c887fd676c"
      },
      "execution_count": 11,
      "outputs": [
        {
          "output_type": "execute_result",
          "data": {
            "text/plain": [
              "['fecha reporte web',\n",
              " 'ID de caso',\n",
              " 'Fecha de notificación',\n",
              " 'Código DIVIPOLA departamento',\n",
              " 'Nombre departamento',\n",
              " 'Código DIVIPOLA municipio',\n",
              " 'Nombre municipio',\n",
              " 'Edad',\n",
              " 'Unidad de medida de edad',\n",
              " 'Sexo',\n",
              " 'Tipo de contagio',\n",
              " 'Ubicación del caso',\n",
              " 'Estado',\n",
              " 'Código ISO del país',\n",
              " 'Nombre del país',\n",
              " 'Recuperado',\n",
              " 'Fecha de inicio de síntomas',\n",
              " 'Fecha de muerte',\n",
              " 'Fecha de diagnóstico',\n",
              " 'Fecha de recuperación',\n",
              " 'Tipo de recuperación',\n",
              " 'Pertenencia étnica',\n",
              " 'Nombre del grupo étnico']"
            ]
          },
          "metadata": {},
          "execution_count": 11
        }
      ]
    },
    {
      "cell_type": "code",
      "source": [
        "len(df.columns)"
      ],
      "metadata": {
        "colab": {
          "base_uri": "https://localhost:8080/"
        },
        "id": "QUGARAmzowJy",
        "outputId": "a082efd9-0f30-440f-a999-3fd59d82c37d"
      },
      "execution_count": 12,
      "outputs": [
        {
          "output_type": "execute_result",
          "data": {
            "text/plain": [
              "23"
            ]
          },
          "metadata": {},
          "execution_count": 12
        }
      ]
    },
    {
      "cell_type": "markdown",
      "source": [
        "####**2.2. Tipos de datos**"
      ],
      "metadata": {
        "id": "_2204pNIp9uK"
      }
    },
    {
      "cell_type": "code",
      "source": [
        "df.dtypes"
      ],
      "metadata": {
        "colab": {
          "base_uri": "https://localhost:8080/"
        },
        "id": "xwmykVUko9h5",
        "outputId": "c646c45d-efa6-45d0-bf4b-297f107df69e"
      },
      "execution_count": 13,
      "outputs": [
        {
          "output_type": "execute_result",
          "data": {
            "text/plain": [
              "[('fecha reporte web', 'string'),\n",
              " ('ID de caso', 'int'),\n",
              " ('Fecha de notificación', 'string'),\n",
              " ('Código DIVIPOLA departamento', 'int'),\n",
              " ('Nombre departamento', 'string'),\n",
              " ('Código DIVIPOLA municipio', 'int'),\n",
              " ('Nombre municipio', 'string'),\n",
              " ('Edad', 'int'),\n",
              " ('Unidad de medida de edad', 'int'),\n",
              " ('Sexo', 'string'),\n",
              " ('Tipo de contagio', 'string'),\n",
              " ('Ubicación del caso', 'string'),\n",
              " ('Estado', 'string'),\n",
              " ('Código ISO del país', 'int'),\n",
              " ('Nombre del país', 'string'),\n",
              " ('Recuperado', 'string'),\n",
              " ('Fecha de inicio de síntomas', 'string'),\n",
              " ('Fecha de muerte', 'string'),\n",
              " ('Fecha de diagnóstico', 'string'),\n",
              " ('Fecha de recuperación', 'string'),\n",
              " ('Tipo de recuperación', 'string'),\n",
              " ('Pertenencia étnica', 'int'),\n",
              " ('Nombre del grupo étnico', 'string')]"
            ]
          },
          "metadata": {},
          "execution_count": 13
        }
      ]
    },
    {
      "cell_type": "markdown",
      "source": [
        "####**2.3. Seleccionar algunas columnas**"
      ],
      "metadata": {
        "id": "iAED_emerA0p"
      }
    },
    {
      "cell_type": "code",
      "source": [
        "df.select('ID de caso','Fecha de diagnóstico','Sexo').show(5)"
      ],
      "metadata": {
        "colab": {
          "base_uri": "https://localhost:8080/"
        },
        "id": "RvZbY7srrp-S",
        "outputId": "94a0d6ce-a972-4d02-8004-63368a2d6292"
      },
      "execution_count": 22,
      "outputs": [
        {
          "output_type": "stream",
          "name": "stdout",
          "text": [
            "+----------+--------------------+----+\n",
            "|ID de caso|Fecha de diagnóstico|Sexo|\n",
            "+----------+--------------------+----+\n",
            "|         1|    6/3/2020 0:00:00|   F|\n",
            "|         2|    9/3/2020 0:00:00|   M|\n",
            "|         3|    9/3/2020 0:00:00|   F|\n",
            "|         4|   11/3/2020 0:00:00|   M|\n",
            "|         5|   11/3/2020 0:00:00|   M|\n",
            "+----------+--------------------+----+\n",
            "only showing top 5 rows\n",
            "\n"
          ]
        }
      ]
    },
    {
      "cell_type": "code",
      "source": [
        "df.select('Recuperado','Fecha de recuperación').show(5)"
      ],
      "metadata": {
        "colab": {
          "base_uri": "https://localhost:8080/"
        },
        "id": "dsKJ0BVbsGgr",
        "outputId": "7f23f4d3-b4b3-4348-f7eb-5a9a40fb32f3"
      },
      "execution_count": 15,
      "outputs": [
        {
          "output_type": "stream",
          "name": "stdout",
          "text": [
            "+----------+---------------------+\n",
            "|Recuperado|Fecha de recuperación|\n",
            "+----------+---------------------+\n",
            "|Recuperado|    13/3/2020 0:00:00|\n",
            "|Recuperado|    19/3/2020 0:00:00|\n",
            "|Recuperado|    15/3/2020 0:00:00|\n",
            "|Recuperado|    26/3/2020 0:00:00|\n",
            "|Recuperado|    23/3/2020 0:00:00|\n",
            "+----------+---------------------+\n",
            "only showing top 5 rows\n",
            "\n"
          ]
        }
      ]
    },
    {
      "cell_type": "markdown",
      "source": [
        "####**2.4. Renombrar columnas**"
      ],
      "metadata": {
        "id": "wE5G6YpAstFx"
      }
    },
    {
      "cell_type": "code",
      "source": [
        "df.withColumnRenamed('ID de caso', 'Id')"
      ],
      "metadata": {
        "colab": {
          "base_uri": "https://localhost:8080/"
        },
        "id": "TMhsgwGmutqj",
        "outputId": "baf4c9d5-7a5e-4ea2-ece3-bf4b38bcadb0"
      },
      "execution_count": 16,
      "outputs": [
        {
          "output_type": "execute_result",
          "data": {
            "text/plain": [
              "DataFrame[fecha reporte web: string, Id: int, Fecha de notificación: string, Código DIVIPOLA departamento: int, Nombre departamento: string, Código DIVIPOLA municipio: int, Nombre municipio: string, Edad: int, Unidad de medida de edad: int, Sexo: string, Tipo de contagio: string, Ubicación del caso: string, Estado: string, Código ISO del país: int, Nombre del país: string, Recuperado: string, Fecha de inicio de síntomas: string, Fecha de muerte: string, Fecha de diagnóstico: string, Fecha de recuperación: string, Tipo de recuperación: string, Pertenencia étnica: int, Nombre del grupo étnico: string]"
            ]
          },
          "metadata": {},
          "execution_count": 16
        }
      ]
    },
    {
      "cell_type": "code",
      "source": [
        "df.withColumnRenamed('Nombre departamento', 'Departamento')"
      ],
      "metadata": {
        "colab": {
          "base_uri": "https://localhost:8080/"
        },
        "id": "6CmWxb3avy4L",
        "outputId": "d1cce545-4c7d-4206-d1f2-9591d9f6a845"
      },
      "execution_count": 17,
      "outputs": [
        {
          "output_type": "execute_result",
          "data": {
            "text/plain": [
              "DataFrame[fecha reporte web: string, ID de caso: int, Fecha de notificación: string, Código DIVIPOLA departamento: int, Departamento: string, Código DIVIPOLA municipio: int, Nombre municipio: string, Edad: int, Unidad de medida de edad: int, Sexo: string, Tipo de contagio: string, Ubicación del caso: string, Estado: string, Código ISO del país: int, Nombre del país: string, Recuperado: string, Fecha de inicio de síntomas: string, Fecha de muerte: string, Fecha de diagnóstico: string, Fecha de recuperación: string, Tipo de recuperación: string, Pertenencia étnica: int, Nombre del grupo étnico: string]"
            ]
          },
          "metadata": {},
          "execution_count": 17
        }
      ]
    },
    {
      "cell_type": "code",
      "source": [
        "df.withColumnRenamed('Nombre municipio', 'Municipio')"
      ],
      "metadata": {
        "colab": {
          "base_uri": "https://localhost:8080/"
        },
        "id": "tJXVyFQUv9VM",
        "outputId": "c10d7a9f-d482-4680-ac86-ce64741e9b5d"
      },
      "execution_count": 18,
      "outputs": [
        {
          "output_type": "execute_result",
          "data": {
            "text/plain": [
              "DataFrame[fecha reporte web: string, ID de caso: int, Fecha de notificación: string, Código DIVIPOLA departamento: int, Nombre departamento: string, Código DIVIPOLA municipio: int, Municipio: string, Edad: int, Unidad de medida de edad: int, Sexo: string, Tipo de contagio: string, Ubicación del caso: string, Estado: string, Código ISO del país: int, Nombre del país: string, Recuperado: string, Fecha de inicio de síntomas: string, Fecha de muerte: string, Fecha de diagnóstico: string, Fecha de recuperación: string, Tipo de recuperación: string, Pertenencia étnica: int, Nombre del grupo étnico: string]"
            ]
          },
          "metadata": {},
          "execution_count": 18
        }
      ]
    },
    {
      "cell_type": "code",
      "source": [
        "df.withColumnRenamed('Nombre del país', 'País')"
      ],
      "metadata": {
        "colab": {
          "base_uri": "https://localhost:8080/"
        },
        "id": "BV2LEuIpwPNK",
        "outputId": "eb11fe09-7a17-4e32-a00c-76864a46494b"
      },
      "execution_count": 19,
      "outputs": [
        {
          "output_type": "execute_result",
          "data": {
            "text/plain": [
              "DataFrame[fecha reporte web: string, ID de caso: int, Fecha de notificación: string, Código DIVIPOLA departamento: int, Nombre departamento: string, Código DIVIPOLA municipio: int, Nombre municipio: string, Edad: int, Unidad de medida de edad: int, Sexo: string, Tipo de contagio: string, Ubicación del caso: string, Estado: string, Código ISO del país: int, País: string, Recuperado: string, Fecha de inicio de síntomas: string, Fecha de muerte: string, Fecha de diagnóstico: string, Fecha de recuperación: string, Tipo de recuperación: string, Pertenencia étnica: int, Nombre del grupo étnico: string]"
            ]
          },
          "metadata": {},
          "execution_count": 19
        }
      ]
    },
    {
      "cell_type": "code",
      "source": [
        "df.withColumnRenamed('ID de caso', 'Id').withColumnRenamed('Nombre departamento', 'Departamento').withColumnRenamed('Nombre municipio', 'Municipio').withColumnRenamed('Nombre del país', 'País')"
      ],
      "metadata": {
        "colab": {
          "base_uri": "https://localhost:8080/"
        },
        "id": "bh1cpQ6NweUv",
        "outputId": "001e60e8-6c4f-4d00-ca65-1b6eea5f25f4"
      },
      "execution_count": 20,
      "outputs": [
        {
          "output_type": "execute_result",
          "data": {
            "text/plain": [
              "DataFrame[fecha reporte web: string, Id: int, Fecha de notificación: string, Código DIVIPOLA departamento: int, Departamento: string, Código DIVIPOLA municipio: int, Municipio: string, Edad: int, Unidad de medida de edad: int, Sexo: string, Tipo de contagio: string, Ubicación del caso: string, Estado: string, Código ISO del país: int, País: string, Recuperado: string, Fecha de inicio de síntomas: string, Fecha de muerte: string, Fecha de diagnóstico: string, Fecha de recuperación: string, Tipo de recuperación: string, Pertenencia étnica: int, Nombre del grupo étnico: string]"
            ]
          },
          "metadata": {},
          "execution_count": 20
        }
      ]
    },
    {
      "cell_type": "markdown",
      "source": [
        "####**2.5. Agregar columnas**"
      ],
      "metadata": {
        "id": "kZ_msHr9xvwJ"
      }
    },
    {
      "cell_type": "code",
      "source": [
        "df.withColumn(\"Mayores de edad\",(df[\"Edad\"]>18)).show(5)"
      ],
      "metadata": {
        "colab": {
          "base_uri": "https://localhost:8080/"
        },
        "id": "YpAgK9HDyXD_",
        "outputId": "9ce0cdbb-2b8c-4745-a47d-c94be4010737"
      },
      "execution_count": 29,
      "outputs": [
        {
          "output_type": "stream",
          "name": "stdout",
          "text": [
            "+-----------------+----------+---------------------+----------------------------+-------------------+-------------------------+----------------+----+------------------------+----+----------------+------------------+------+-------------------+---------------+----------+---------------------------+---------------+--------------------+---------------------+--------------------+------------------+-----------------------+---------------+\n",
            "|fecha reporte web|ID de caso|Fecha de notificación|Código DIVIPOLA departamento|Nombre departamento|Código DIVIPOLA municipio|Nombre municipio|Edad|Unidad de medida de edad|Sexo|Tipo de contagio|Ubicación del caso|Estado|Código ISO del país|Nombre del país|Recuperado|Fecha de inicio de síntomas|Fecha de muerte|Fecha de diagnóstico|Fecha de recuperación|Tipo de recuperación|Pertenencia étnica|Nombre del grupo étnico|Mayores de edad|\n",
            "+-----------------+----------+---------------------+----------------------------+-------------------+-------------------------+----------------+----+------------------------+----+----------------+------------------+------+-------------------+---------------+----------+---------------------------+---------------+--------------------+---------------------+--------------------+------------------+-----------------------+---------------+\n",
            "| 6/3/2020 0:00:00|         1|     2/3/2020 0:00:00|                          11|             BOGOTA|                    11001|          BOGOTA|  19|                       1|   F|       Importado|              Casa|  Leve|                380|         ITALIA|Recuperado|          27/2/2020 0:00:00|           null|    6/3/2020 0:00:00|    13/3/2020 0:00:00|                 PCR|                 6|                   null|           true|\n",
            "| 9/3/2020 0:00:00|         2|     6/3/2020 0:00:00|                          76|              VALLE|                    76111|            BUGA|  34|                       1|   M|       Importado|              Casa|  Leve|                724|         ESPAÑA|Recuperado|           4/3/2020 0:00:00|           null|    9/3/2020 0:00:00|    19/3/2020 0:00:00|                 PCR|                 5|                   null|           true|\n",
            "| 9/3/2020 0:00:00|         3|     7/3/2020 0:00:00|                           5|          ANTIOQUIA|                     5001|        MEDELLIN|  50|                       1|   F|       Importado|              Casa|  Leve|                724|         ESPAÑA|Recuperado|          29/2/2020 0:00:00|           null|    9/3/2020 0:00:00|    15/3/2020 0:00:00|                 PCR|                 6|                   null|           true|\n",
            "|11/3/2020 0:00:00|         4|     9/3/2020 0:00:00|                           5|          ANTIOQUIA|                     5001|        MEDELLIN|  55|                       1|   M|     Relacionado|              Casa|  Leve|               null|           null|Recuperado|           6/3/2020 0:00:00|           null|   11/3/2020 0:00:00|    26/3/2020 0:00:00|                 PCR|                 6|                   null|           true|\n",
            "|11/3/2020 0:00:00|         5|     9/3/2020 0:00:00|                           5|          ANTIOQUIA|                     5001|        MEDELLIN|  25|                       1|   M|     Relacionado|              Casa|  Leve|               null|           null|Recuperado|           8/3/2020 0:00:00|           null|   11/3/2020 0:00:00|    23/3/2020 0:00:00|                 PCR|                 6|                   null|           true|\n",
            "+-----------------+----------+---------------------+----------------------------+-------------------+-------------------------+----------------+----+------------------------+----+----------------+------------------+------+-------------------+---------------+----------+---------------------------+---------------+--------------------+---------------------+--------------------+------------------+-----------------------+---------------+\n",
            "only showing top 5 rows\n",
            "\n"
          ]
        }
      ]
    },
    {
      "cell_type": "code",
      "source": [
        "df.withColumn(\"Menores de edad\",(df[\"Edad\"]<18)).show(5)"
      ],
      "metadata": {
        "colab": {
          "base_uri": "https://localhost:8080/"
        },
        "id": "xNvSbx9SBWEt",
        "outputId": "86dc9e2b-c334-411d-8384-71fa05f78024"
      },
      "execution_count": 31,
      "outputs": [
        {
          "output_type": "stream",
          "name": "stdout",
          "text": [
            "+-----------------+----------+---------------------+----------------------------+-------------------+-------------------------+----------------+----+------------------------+----+----------------+------------------+------+-------------------+---------------+----------+---------------------------+---------------+--------------------+---------------------+--------------------+------------------+-----------------------+---------------+\n",
            "|fecha reporte web|ID de caso|Fecha de notificación|Código DIVIPOLA departamento|Nombre departamento|Código DIVIPOLA municipio|Nombre municipio|Edad|Unidad de medida de edad|Sexo|Tipo de contagio|Ubicación del caso|Estado|Código ISO del país|Nombre del país|Recuperado|Fecha de inicio de síntomas|Fecha de muerte|Fecha de diagnóstico|Fecha de recuperación|Tipo de recuperación|Pertenencia étnica|Nombre del grupo étnico|Menores de edad|\n",
            "+-----------------+----------+---------------------+----------------------------+-------------------+-------------------------+----------------+----+------------------------+----+----------------+------------------+------+-------------------+---------------+----------+---------------------------+---------------+--------------------+---------------------+--------------------+------------------+-----------------------+---------------+\n",
            "| 6/3/2020 0:00:00|         1|     2/3/2020 0:00:00|                          11|             BOGOTA|                    11001|          BOGOTA|  19|                       1|   F|       Importado|              Casa|  Leve|                380|         ITALIA|Recuperado|          27/2/2020 0:00:00|           null|    6/3/2020 0:00:00|    13/3/2020 0:00:00|                 PCR|                 6|                   null|          false|\n",
            "| 9/3/2020 0:00:00|         2|     6/3/2020 0:00:00|                          76|              VALLE|                    76111|            BUGA|  34|                       1|   M|       Importado|              Casa|  Leve|                724|         ESPAÑA|Recuperado|           4/3/2020 0:00:00|           null|    9/3/2020 0:00:00|    19/3/2020 0:00:00|                 PCR|                 5|                   null|          false|\n",
            "| 9/3/2020 0:00:00|         3|     7/3/2020 0:00:00|                           5|          ANTIOQUIA|                     5001|        MEDELLIN|  50|                       1|   F|       Importado|              Casa|  Leve|                724|         ESPAÑA|Recuperado|          29/2/2020 0:00:00|           null|    9/3/2020 0:00:00|    15/3/2020 0:00:00|                 PCR|                 6|                   null|          false|\n",
            "|11/3/2020 0:00:00|         4|     9/3/2020 0:00:00|                           5|          ANTIOQUIA|                     5001|        MEDELLIN|  55|                       1|   M|     Relacionado|              Casa|  Leve|               null|           null|Recuperado|           6/3/2020 0:00:00|           null|   11/3/2020 0:00:00|    26/3/2020 0:00:00|                 PCR|                 6|                   null|          false|\n",
            "|11/3/2020 0:00:00|         5|     9/3/2020 0:00:00|                           5|          ANTIOQUIA|                     5001|        MEDELLIN|  25|                       1|   M|     Relacionado|              Casa|  Leve|               null|           null|Recuperado|           8/3/2020 0:00:00|           null|   11/3/2020 0:00:00|    23/3/2020 0:00:00|                 PCR|                 6|                   null|          false|\n",
            "+-----------------+----------+---------------------+----------------------------+-------------------+-------------------------+----------------+----+------------------------+----+----------------+------------------+------+-------------------+---------------+----------+---------------------------+---------------+--------------------+---------------------+--------------------+------------------+-----------------------+---------------+\n",
            "only showing top 5 rows\n",
            "\n"
          ]
        }
      ]
    },
    {
      "cell_type": "markdown",
      "source": [
        "####**2.6. Borrar columnas**"
      ],
      "metadata": {
        "id": "j_4K8TCCEU_3"
      }
    },
    {
      "cell_type": "code",
      "source": [
        "df.drop('Unidad de medida de edad')"
      ],
      "metadata": {
        "colab": {
          "base_uri": "https://localhost:8080/"
        },
        "id": "gQ5y_xlYFOyD",
        "outputId": "3664f516-929b-4d5a-fc5d-6524b09de04c"
      },
      "execution_count": 32,
      "outputs": [
        {
          "output_type": "execute_result",
          "data": {
            "text/plain": [
              "DataFrame[fecha reporte web: string, ID de caso: int, Fecha de notificación: string, Código DIVIPOLA departamento: int, Nombre departamento: string, Código DIVIPOLA municipio: int, Nombre municipio: string, Edad: int, Sexo: string, Tipo de contagio: string, Ubicación del caso: string, Estado: string, Código ISO del país: int, Nombre del país: string, Recuperado: string, Fecha de inicio de síntomas: string, Fecha de muerte: string, Fecha de diagnóstico: string, Fecha de recuperación: string, Tipo de recuperación: string, Pertenencia étnica: int, Nombre del grupo étnico: string]"
            ]
          },
          "metadata": {},
          "execution_count": 32
        }
      ]
    },
    {
      "cell_type": "code",
      "source": [
        "df.drop('Pertenencia étnica')"
      ],
      "metadata": {
        "colab": {
          "base_uri": "https://localhost:8080/"
        },
        "id": "BNTDKnlCFj6P",
        "outputId": "fe3211ee-28f2-46d4-b16b-fa1b0867f5f1"
      },
      "execution_count": 33,
      "outputs": [
        {
          "output_type": "execute_result",
          "data": {
            "text/plain": [
              "DataFrame[fecha reporte web: string, ID de caso: int, Fecha de notificación: string, Código DIVIPOLA departamento: int, Nombre departamento: string, Código DIVIPOLA municipio: int, Nombre municipio: string, Edad: int, Unidad de medida de edad: int, Sexo: string, Tipo de contagio: string, Ubicación del caso: string, Estado: string, Código ISO del país: int, Nombre del país: string, Recuperado: string, Fecha de inicio de síntomas: string, Fecha de muerte: string, Fecha de diagnóstico: string, Fecha de recuperación: string, Tipo de recuperación: string, Nombre del grupo étnico: string]"
            ]
          },
          "metadata": {},
          "execution_count": 33
        }
      ]
    },
    {
      "cell_type": "code",
      "source": [
        "df.drop('Nombre del grupo étnico')"
      ],
      "metadata": {
        "colab": {
          "base_uri": "https://localhost:8080/"
        },
        "id": "Fmz2B7a4Fr6S",
        "outputId": "d97b9f58-d632-460f-bb34-08dd7c1801ea"
      },
      "execution_count": 34,
      "outputs": [
        {
          "output_type": "execute_result",
          "data": {
            "text/plain": [
              "DataFrame[fecha reporte web: string, ID de caso: int, Fecha de notificación: string, Código DIVIPOLA departamento: int, Nombre departamento: string, Código DIVIPOLA municipio: int, Nombre municipio: string, Edad: int, Unidad de medida de edad: int, Sexo: string, Tipo de contagio: string, Ubicación del caso: string, Estado: string, Código ISO del país: int, Nombre del país: string, Recuperado: string, Fecha de inicio de síntomas: string, Fecha de muerte: string, Fecha de diagnóstico: string, Fecha de recuperación: string, Tipo de recuperación: string, Pertenencia étnica: int]"
            ]
          },
          "metadata": {},
          "execution_count": 34
        }
      ]
    },
    {
      "cell_type": "code",
      "source": [
        "df.drop('Pertenencia étnica','Nombre del grupo étnico')"
      ],
      "metadata": {
        "colab": {
          "base_uri": "https://localhost:8080/"
        },
        "id": "D5HZ0qRsF3hs",
        "outputId": "5521e4e4-e3ea-431b-eb4d-029260e03c87"
      },
      "execution_count": 35,
      "outputs": [
        {
          "output_type": "execute_result",
          "data": {
            "text/plain": [
              "DataFrame[fecha reporte web: string, ID de caso: int, Fecha de notificación: string, Código DIVIPOLA departamento: int, Nombre departamento: string, Código DIVIPOLA municipio: int, Nombre municipio: string, Edad: int, Unidad de medida de edad: int, Sexo: string, Tipo de contagio: string, Ubicación del caso: string, Estado: string, Código ISO del país: int, Nombre del país: string, Recuperado: string, Fecha de inicio de síntomas: string, Fecha de muerte: string, Fecha de diagnóstico: string, Fecha de recuperación: string, Tipo de recuperación: string]"
            ]
          },
          "metadata": {},
          "execution_count": 35
        }
      ]
    },
    {
      "cell_type": "markdown",
      "source": [
        "####**2.7. Filtrar datos**"
      ],
      "metadata": {
        "id": "7cQ8KrhbGeqX"
      }
    },
    {
      "cell_type": "code",
      "source": [
        "df.filter(df['Nombre del país']=='ITALIA').show(5)"
      ],
      "metadata": {
        "colab": {
          "base_uri": "https://localhost:8080/"
        },
        "id": "xhqXJIbFJAPC",
        "outputId": "214927cd-fa42-447a-bd79-59dfa428b614"
      },
      "execution_count": 38,
      "outputs": [
        {
          "output_type": "stream",
          "name": "stdout",
          "text": [
            "+-----------------+----------+---------------------+----------------------------+-------------------+-------------------------+----------------+----+------------------------+----+----------------+------------------+------+-------------------+---------------+----------+---------------------------+---------------+--------------------+---------------------+--------------------+------------------+-----------------------+\n",
            "|fecha reporte web|ID de caso|Fecha de notificación|Código DIVIPOLA departamento|Nombre departamento|Código DIVIPOLA municipio|Nombre municipio|Edad|Unidad de medida de edad|Sexo|Tipo de contagio|Ubicación del caso|Estado|Código ISO del país|Nombre del país|Recuperado|Fecha de inicio de síntomas|Fecha de muerte|Fecha de diagnóstico|Fecha de recuperación|Tipo de recuperación|Pertenencia étnica|Nombre del grupo étnico|\n",
            "+-----------------+----------+---------------------+----------------------------+-------------------+-------------------------+----------------+----+------------------------+----+----------------+------------------+------+-------------------+---------------+----------+---------------------------+---------------+--------------------+---------------------+--------------------+------------------+-----------------------+\n",
            "| 6/3/2020 0:00:00|         1|     2/3/2020 0:00:00|                          11|             BOGOTA|                    11001|          BOGOTA|  19|                       1|   F|       Importado|              Casa|  Leve|                380|         ITALIA|Recuperado|          27/2/2020 0:00:00|           null|    6/3/2020 0:00:00|    13/3/2020 0:00:00|                 PCR|                 6|                   null|\n",
            "|12/3/2020 0:00:00|        12|    10/3/2020 0:00:00|                          41|              HUILA|                    41001|           NEIVA|  74|                       1|   F|       Importado|              Casa|  Leve|                380|         ITALIA|Recuperado|           6/3/2020 0:00:00|           null|   12/3/2020 0:00:00|     9/4/2020 0:00:00|                 PCR|                 6|                   null|\n",
            "|13/3/2020 0:00:00|        16|    11/3/2020 0:00:00|                          11|             BOGOTA|                    11001|          BOGOTA|  61|                       1|   F|       Importado|              Casa|  Leve|                380|         ITALIA|Recuperado|           8/3/2020 0:00:00|           null|   13/3/2020 0:00:00|    23/3/2020 0:00:00|                 PCR|                 5|                   null|\n",
            "|16/3/2020 0:00:00|        62|    14/3/2020 0:00:00|                          76|              VALLE|                    76001|            CALI|  32|                       1|   M|       Importado|              Casa|  Leve|                380|         ITALIA|Recuperado|          12/3/2020 0:00:00|           null|   16/3/2020 0:00:00|    26/3/2020 0:00:00|                 PCR|                 6|                   null|\n",
            "|17/3/2020 0:00:00|        76|    14/3/2020 0:00:00|                          63|            QUINDIO|                    63001|         ARMENIA|  46|                       1|   F|       Importado|              Casa|  Leve|                380|         ITALIA|Recuperado|          13/3/2020 0:00:00|           null|   17/3/2020 0:00:00|    29/3/2020 0:00:00|                 PCR|                 6|                   null|\n",
            "+-----------------+----------+---------------------+----------------------------+-------------------+-------------------------+----------------+----+------------------------+----+----------------+------------------+------+-------------------+---------------+----------+---------------------------+---------------+--------------------+---------------------+--------------------+------------------+-----------------------+\n",
            "only showing top 5 rows\n",
            "\n"
          ]
        }
      ]
    },
    {
      "cell_type": "code",
      "source": [
        "df.filter(df['Sexo']=='F').filter(df['Edad']>18).show(5)"
      ],
      "metadata": {
        "colab": {
          "base_uri": "https://localhost:8080/"
        },
        "id": "JKAeNNPpJZrD",
        "outputId": "3676b67a-c930-49e6-8171-47026e24715a"
      },
      "execution_count": 39,
      "outputs": [
        {
          "output_type": "stream",
          "name": "stdout",
          "text": [
            "+-----------------+----------+---------------------+----------------------------+-------------------+-------------------------+----------------+----+------------------------+----+----------------+------------------+------+-------------------+--------------------+----------+---------------------------+---------------+--------------------+---------------------+--------------------+------------------+-----------------------+\n",
            "|fecha reporte web|ID de caso|Fecha de notificación|Código DIVIPOLA departamento|Nombre departamento|Código DIVIPOLA municipio|Nombre municipio|Edad|Unidad de medida de edad|Sexo|Tipo de contagio|Ubicación del caso|Estado|Código ISO del país|     Nombre del país|Recuperado|Fecha de inicio de síntomas|Fecha de muerte|Fecha de diagnóstico|Fecha de recuperación|Tipo de recuperación|Pertenencia étnica|Nombre del grupo étnico|\n",
            "+-----------------+----------+---------------------+----------------------------+-------------------+-------------------------+----------------+----+------------------------+----+----------------+------------------+------+-------------------+--------------------+----------+---------------------------+---------------+--------------------+---------------------+--------------------+------------------+-----------------------+\n",
            "| 6/3/2020 0:00:00|         1|     2/3/2020 0:00:00|                          11|             BOGOTA|                    11001|          BOGOTA|  19|                       1|   F|       Importado|              Casa|  Leve|                380|              ITALIA|Recuperado|          27/2/2020 0:00:00|           null|    6/3/2020 0:00:00|    13/3/2020 0:00:00|                 PCR|                 6|                   null|\n",
            "| 9/3/2020 0:00:00|         3|     7/3/2020 0:00:00|                           5|          ANTIOQUIA|                     5001|        MEDELLIN|  50|                       1|   F|       Importado|              Casa|  Leve|                724|              ESPAÑA|Recuperado|          29/2/2020 0:00:00|           null|    9/3/2020 0:00:00|    15/3/2020 0:00:00|                 PCR|                 6|                   null|\n",
            "|11/3/2020 0:00:00|         6|    10/3/2020 0:00:00|                           5|          ANTIOQUIA|                     5360|          ITAGUI|  27|                       1|   F|     Relacionado|              Casa|  Leve|               null|                null|Recuperado|           6/3/2020 0:00:00|           null|   11/3/2020 0:00:00|    26/3/2020 0:00:00|                 PCR|                 6|                   null|\n",
            "|11/3/2020 0:00:00|         7|     8/3/2020 0:00:00|                       13001|          CARTAGENA|                    13001|       CARTAGENA|  85|                       1|   F|       Importado|              Casa|  Leve|                840|ESTADOS UNIDOS DE...|Recuperado|           2/3/2020 0:00:00|           null|   11/3/2020 0:00:00|    17/3/2020 0:00:00|                 PCR|                 6|                   null|\n",
            "|11/3/2020 0:00:00|         8|     9/3/2020 0:00:00|                          11|             BOGOTA|                    11001|          BOGOTA|  22|                       1|   F|       Importado|              Casa|  Leve|                724|              ESPAÑA|Recuperado|           6/3/2020 0:00:00|           null|   11/3/2020 0:00:00|    21/3/2020 0:00:00|                 PCR|                 6|                   null|\n",
            "+-----------------+----------+---------------------+----------------------------+-------------------+-------------------------+----------------+----+------------------------+----+----------------+------------------+------+-------------------+--------------------+----------+---------------------------+---------------+--------------------+---------------------+--------------------+------------------+-----------------------+\n",
            "only showing top 5 rows\n",
            "\n"
          ]
        }
      ]
    },
    {
      "cell_type": "code",
      "source": [
        "df.filter(df['Sexo']=='M').filter(df['Recuperado']=='Recuperado').show(5)"
      ],
      "metadata": {
        "colab": {
          "base_uri": "https://localhost:8080/"
        },
        "id": "5XXcQY3VJwSY",
        "outputId": "a06b139b-3ddb-4c72-e9a0-cff126cd294e"
      },
      "execution_count": 40,
      "outputs": [
        {
          "output_type": "stream",
          "name": "stdout",
          "text": [
            "+-----------------+----------+---------------------+----------------------------+-------------------+-------------------------+----------------+----+------------------------+----+----------------+------------------+------+-------------------+---------------+----------+---------------------------+---------------+--------------------+---------------------+--------------------+------------------+-----------------------+\n",
            "|fecha reporte web|ID de caso|Fecha de notificación|Código DIVIPOLA departamento|Nombre departamento|Código DIVIPOLA municipio|Nombre municipio|Edad|Unidad de medida de edad|Sexo|Tipo de contagio|Ubicación del caso|Estado|Código ISO del país|Nombre del país|Recuperado|Fecha de inicio de síntomas|Fecha de muerte|Fecha de diagnóstico|Fecha de recuperación|Tipo de recuperación|Pertenencia étnica|Nombre del grupo étnico|\n",
            "+-----------------+----------+---------------------+----------------------------+-------------------+-------------------------+----------------+----+------------------------+----+----------------+------------------+------+-------------------+---------------+----------+---------------------------+---------------+--------------------+---------------------+--------------------+------------------+-----------------------+\n",
            "| 9/3/2020 0:00:00|         2|     6/3/2020 0:00:00|                          76|              VALLE|                    76111|            BUGA|  34|                       1|   M|       Importado|              Casa|  Leve|                724|         ESPAÑA|Recuperado|           4/3/2020 0:00:00|           null|    9/3/2020 0:00:00|    19/3/2020 0:00:00|                 PCR|                 5|                   null|\n",
            "|11/3/2020 0:00:00|         4|     9/3/2020 0:00:00|                           5|          ANTIOQUIA|                     5001|        MEDELLIN|  55|                       1|   M|     Relacionado|              Casa|  Leve|               null|           null|Recuperado|           6/3/2020 0:00:00|           null|   11/3/2020 0:00:00|    26/3/2020 0:00:00|                 PCR|                 6|                   null|\n",
            "|11/3/2020 0:00:00|         5|     9/3/2020 0:00:00|                           5|          ANTIOQUIA|                     5001|        MEDELLIN|  25|                       1|   M|     Relacionado|              Casa|  Leve|               null|           null|Recuperado|           8/3/2020 0:00:00|           null|   11/3/2020 0:00:00|    23/3/2020 0:00:00|                 PCR|                 6|                   null|\n",
            "|13/3/2020 0:00:00|        14|    10/3/2020 0:00:00|                          76|              VALLE|                    76520|         PALMIRA|  48|                       1|   M|       Importado|              Casa|  Leve|                724|         ESPAÑA|Recuperado|           7/3/2020 0:00:00|           null|   13/3/2020 0:00:00|    21/3/2020 0:00:00|                 PCR|                 5|                   null|\n",
            "|14/3/2020 0:00:00|        18|    11/3/2020 0:00:00|                          11|             BOGOTA|                    11001|          BOGOTA|  54|                       1|   M|       Importado|              Casa|  Leve|                724|         ESPAÑA|Recuperado|           7/3/2020 0:00:00|           null|   14/3/2020 0:00:00|     7/4/2020 0:00:00|              Tiempo|                 6|                   null|\n",
            "+-----------------+----------+---------------------+----------------------------+-------------------+-------------------------+----------------+----+------------------------+----+----------------+------------------+------+-------------------+---------------+----------+---------------------------+---------------+--------------------+---------------------+--------------------+------------------+-----------------------+\n",
            "only showing top 5 rows\n",
            "\n"
          ]
        }
      ]
    },
    {
      "cell_type": "markdown",
      "source": [
        "####**2.8. Ejecutar alguna función UDF o lambda sobre alguna columna creando una nueva**"
      ],
      "metadata": {
        "id": "m5cdcYDXKcIs"
      }
    },
    {
      "cell_type": "code",
      "source": [
        "from pyspark.sql.functions import udf"
      ],
      "metadata": {
        "id": "HcsPhB8kLiwO"
      },
      "execution_count": 41,
      "outputs": []
    },
    {
      "cell_type": "code",
      "source": [
        "nacionalidad_udf = udf(lambda pais: \"Colombiano\" if pais == 'COLOMBIA' else \"Extranjero\")\n",
        "\n",
        "df.withColumn('Nacionalidad',nacionalidad_udf(df['Nombre del país'])).show(5)"
      ],
      "metadata": {
        "colab": {
          "base_uri": "https://localhost:8080/"
        },
        "id": "AH9YkTDiMAZN",
        "outputId": "e87767d6-a051-438c-f187-7a7ab6c4761b"
      },
      "execution_count": 45,
      "outputs": [
        {
          "output_type": "stream",
          "name": "stdout",
          "text": [
            "+-----------------+----------+---------------------+----------------------------+-------------------+-------------------------+----------------+----+------------------------+----+----------------+------------------+------+-------------------+---------------+----------+---------------------------+---------------+--------------------+---------------------+--------------------+------------------+-----------------------+------------+\n",
            "|fecha reporte web|ID de caso|Fecha de notificación|Código DIVIPOLA departamento|Nombre departamento|Código DIVIPOLA municipio|Nombre municipio|Edad|Unidad de medida de edad|Sexo|Tipo de contagio|Ubicación del caso|Estado|Código ISO del país|Nombre del país|Recuperado|Fecha de inicio de síntomas|Fecha de muerte|Fecha de diagnóstico|Fecha de recuperación|Tipo de recuperación|Pertenencia étnica|Nombre del grupo étnico|Nacionalidad|\n",
            "+-----------------+----------+---------------------+----------------------------+-------------------+-------------------------+----------------+----+------------------------+----+----------------+------------------+------+-------------------+---------------+----------+---------------------------+---------------+--------------------+---------------------+--------------------+------------------+-----------------------+------------+\n",
            "| 6/3/2020 0:00:00|         1|     2/3/2020 0:00:00|                          11|             BOGOTA|                    11001|          BOGOTA|  19|                       1|   F|       Importado|              Casa|  Leve|                380|         ITALIA|Recuperado|          27/2/2020 0:00:00|           null|    6/3/2020 0:00:00|    13/3/2020 0:00:00|                 PCR|                 6|                   null|  Extranjero|\n",
            "| 9/3/2020 0:00:00|         2|     6/3/2020 0:00:00|                          76|              VALLE|                    76111|            BUGA|  34|                       1|   M|       Importado|              Casa|  Leve|                724|         ESPAÑA|Recuperado|           4/3/2020 0:00:00|           null|    9/3/2020 0:00:00|    19/3/2020 0:00:00|                 PCR|                 5|                   null|  Extranjero|\n",
            "| 9/3/2020 0:00:00|         3|     7/3/2020 0:00:00|                           5|          ANTIOQUIA|                     5001|        MEDELLIN|  50|                       1|   F|       Importado|              Casa|  Leve|                724|         ESPAÑA|Recuperado|          29/2/2020 0:00:00|           null|    9/3/2020 0:00:00|    15/3/2020 0:00:00|                 PCR|                 6|                   null|  Extranjero|\n",
            "|11/3/2020 0:00:00|         4|     9/3/2020 0:00:00|                           5|          ANTIOQUIA|                     5001|        MEDELLIN|  55|                       1|   M|     Relacionado|              Casa|  Leve|               null|           null|Recuperado|           6/3/2020 0:00:00|           null|   11/3/2020 0:00:00|    26/3/2020 0:00:00|                 PCR|                 6|                   null|  Extranjero|\n",
            "|11/3/2020 0:00:00|         5|     9/3/2020 0:00:00|                           5|          ANTIOQUIA|                     5001|        MEDELLIN|  25|                       1|   M|     Relacionado|              Casa|  Leve|               null|           null|Recuperado|           8/3/2020 0:00:00|           null|   11/3/2020 0:00:00|    23/3/2020 0:00:00|                 PCR|                 6|                   null|  Extranjero|\n",
            "+-----------------+----------+---------------------+----------------------------+-------------------+-------------------------+----------------+----+------------------------+----+----------------+------------------+------+-------------------+---------------+----------+---------------------------+---------------+--------------------+---------------------+--------------------+------------------+-----------------------+------------+\n",
            "only showing top 5 rows\n",
            "\n"
          ]
        }
      ]
    },
    {
      "cell_type": "markdown",
      "source": [
        "###**3. Contestar las siguientes preguntas sobre los datos de covid**"
      ],
      "metadata": {
        "id": "0CiLz58iPrB4"
      }
    },
    {
      "cell_type": "code",
      "source": [
        "df.createOrReplaceTempView(\"dataset_covid_sql\")"
      ],
      "metadata": {
        "id": "df-HuEQnTGWg"
      },
      "execution_count": 46,
      "outputs": []
    },
    {
      "cell_type": "markdown",
      "source": [
        "####**3.1. Los 10 departamentos con más casos de covid en Colombia ordenados de mayor a menor**"
      ],
      "metadata": {
        "id": "jkEKuCJ5Ryel"
      }
    },
    {
      "cell_type": "code",
      "source": [
        "df.groupBy('Nombre departamento').count().orderBy('count',ascending=False).show(10)"
      ],
      "metadata": {
        "colab": {
          "base_uri": "https://localhost:8080/"
        },
        "id": "_W9TsYiQTLkP",
        "outputId": "e87421c6-3cfd-4e57-994b-fb257f2a9f62"
      },
      "execution_count": 47,
      "outputs": [
        {
          "output_type": "stream",
          "name": "stdout",
          "text": [
            "+-------------------+-----+\n",
            "|Nombre departamento|count|\n",
            "+-------------------+-----+\n",
            "|             BOGOTA|30016|\n",
            "|       BARRANQUILLA|13065|\n",
            "|          ATLANTICO|10994|\n",
            "|              VALLE|10404|\n",
            "|          CARTAGENA| 8333|\n",
            "|          ANTIOQUIA| 4554|\n",
            "|             NARIÑO| 3520|\n",
            "|       CUNDINAMARCA| 2827|\n",
            "|           AMAZONAS| 2317|\n",
            "|              CHOCO| 1636|\n",
            "+-------------------+-----+\n",
            "only showing top 10 rows\n",
            "\n"
          ]
        }
      ]
    },
    {
      "cell_type": "code",
      "source": [
        "spark.sql(\"\"\"SELECT `Nombre departamento`,\n",
        "COUNT(*)\n",
        "FROM dataset_covid_sql\n",
        "GROUP BY `Nombre departamento`\n",
        "ORDER BY COUNT(*)\n",
        "DESC\"\"\").show(10)"
      ],
      "metadata": {
        "colab": {
          "base_uri": "https://localhost:8080/"
        },
        "id": "dRdNQ8hWTjoV",
        "outputId": "0aa6f0d7-a5fa-4997-a5f2-dae9b47d139f"
      },
      "execution_count": 48,
      "outputs": [
        {
          "output_type": "stream",
          "name": "stdout",
          "text": [
            "+-------------------+--------+\n",
            "|Nombre departamento|count(1)|\n",
            "+-------------------+--------+\n",
            "|             BOGOTA|   30016|\n",
            "|       BARRANQUILLA|   13065|\n",
            "|          ATLANTICO|   10994|\n",
            "|              VALLE|   10404|\n",
            "|          CARTAGENA|    8333|\n",
            "|          ANTIOQUIA|    4554|\n",
            "|             NARIÑO|    3520|\n",
            "|       CUNDINAMARCA|    2827|\n",
            "|           AMAZONAS|    2317|\n",
            "|              CHOCO|    1636|\n",
            "+-------------------+--------+\n",
            "only showing top 10 rows\n",
            "\n"
          ]
        }
      ]
    },
    {
      "cell_type": "markdown",
      "source": [
        "####**3.2. Las 10 ciudades con más casos de covid en Colombia ordenados de mayor a menor**"
      ],
      "metadata": {
        "id": "YYZAhYbDTxXU"
      }
    },
    {
      "cell_type": "code",
      "source": [
        "df.groupBy('Nombre municipio').count().orderBy('count',ascending=False).show(10)"
      ],
      "metadata": {
        "colab": {
          "base_uri": "https://localhost:8080/"
        },
        "id": "fU89w_8YXx2R",
        "outputId": "9bff87f9-d199-408e-c5db-7e2517847394"
      },
      "execution_count": 49,
      "outputs": [
        {
          "output_type": "stream",
          "name": "stdout",
          "text": [
            "+----------------+-----+\n",
            "|Nombre municipio|count|\n",
            "+----------------+-----+\n",
            "|          BOGOTA|30016|\n",
            "|    BARRANQUILLA|13065|\n",
            "|       CARTAGENA| 8333|\n",
            "|            CALI| 7747|\n",
            "|         SOLEDAD| 6233|\n",
            "|         LETICIA| 2194|\n",
            "|        MEDELLIN| 2137|\n",
            "|          TUMACO| 1501|\n",
            "|    BUENAVENTURA| 1453|\n",
            "|          QUIBDO| 1367|\n",
            "+----------------+-----+\n",
            "only showing top 10 rows\n",
            "\n"
          ]
        }
      ]
    },
    {
      "cell_type": "code",
      "source": [
        "spark.sql(\"\"\"SELECT `Nombre municipio`,\n",
        "COUNT(*)\n",
        "FROM dataset_covid_sql\n",
        "GROUP BY `Nombre municipio`\n",
        "ORDER BY COUNT(*)\n",
        "DESC\"\"\").show(10)"
      ],
      "metadata": {
        "colab": {
          "base_uri": "https://localhost:8080/"
        },
        "id": "ptOhRYCaYDCk",
        "outputId": "36ec647a-d33e-40ce-b3d2-6370a8889355"
      },
      "execution_count": 50,
      "outputs": [
        {
          "output_type": "stream",
          "name": "stdout",
          "text": [
            "+----------------+--------+\n",
            "|Nombre municipio|count(1)|\n",
            "+----------------+--------+\n",
            "|          BOGOTA|   30016|\n",
            "|    BARRANQUILLA|   13065|\n",
            "|       CARTAGENA|    8333|\n",
            "|            CALI|    7747|\n",
            "|         SOLEDAD|    6233|\n",
            "|         LETICIA|    2194|\n",
            "|        MEDELLIN|    2137|\n",
            "|          TUMACO|    1501|\n",
            "|    BUENAVENTURA|    1453|\n",
            "|          QUIBDO|    1367|\n",
            "+----------------+--------+\n",
            "only showing top 10 rows\n",
            "\n"
          ]
        }
      ]
    },
    {
      "cell_type": "markdown",
      "source": [
        "####**3.3. Los 10 días con más casos de covid en Colombia ordenados de mayor a menor**"
      ],
      "metadata": {
        "id": "1XZonqWuazOL"
      }
    },
    {
      "cell_type": "code",
      "source": [
        "df.groupBy('Fecha de diagnóstico').count().orderBy('count',ascending=False).show(10)"
      ],
      "metadata": {
        "colab": {
          "base_uri": "https://localhost:8080/"
        },
        "id": "hMxHPl_9bA-5",
        "outputId": "118b123d-2e98-4f20-cb34-8ca3a4d5bdbe"
      },
      "execution_count": 51,
      "outputs": [
        {
          "output_type": "stream",
          "name": "stdout",
          "text": [
            "+--------------------+-----+\n",
            "|Fecha de diagnóstico|count|\n",
            "+--------------------+-----+\n",
            "|   26/6/2020 0:00:00| 4390|\n",
            "|   27/6/2020 0:00:00| 4019|\n",
            "|   28/6/2020 0:00:00| 3580|\n",
            "|   25/6/2020 0:00:00| 3381|\n",
            "|   19/6/2020 0:00:00| 3053|\n",
            "|   18/6/2020 0:00:00| 3040|\n",
            "|   23/6/2020 0:00:00| 3031|\n",
            "|   22/6/2020 0:00:00| 2938|\n",
            "|   21/6/2020 0:00:00| 2781|\n",
            "|   24/6/2020 0:00:00| 2564|\n",
            "+--------------------+-----+\n",
            "only showing top 10 rows\n",
            "\n"
          ]
        }
      ]
    },
    {
      "cell_type": "code",
      "source": [
        "spark.sql(\"\"\"SELECT `Fecha de diagnóstico`,\n",
        "COUNT(*)\n",
        "FROM dataset_covid_sql\n",
        "GROUP BY `Fecha de diagnóstico`\n",
        "ORDER BY COUNT(*)\n",
        "DESC\"\"\").show(10)"
      ],
      "metadata": {
        "colab": {
          "base_uri": "https://localhost:8080/"
        },
        "id": "IUZmPESUbT0N",
        "outputId": "82ebc39a-d186-48f3-f929-8fac249f2f06"
      },
      "execution_count": 52,
      "outputs": [
        {
          "output_type": "stream",
          "name": "stdout",
          "text": [
            "+--------------------+--------+\n",
            "|Fecha de diagnóstico|count(1)|\n",
            "+--------------------+--------+\n",
            "|   26/6/2020 0:00:00|    4390|\n",
            "|   27/6/2020 0:00:00|    4019|\n",
            "|   28/6/2020 0:00:00|    3580|\n",
            "|   25/6/2020 0:00:00|    3381|\n",
            "|   19/6/2020 0:00:00|    3053|\n",
            "|   18/6/2020 0:00:00|    3040|\n",
            "|   23/6/2020 0:00:00|    3031|\n",
            "|   22/6/2020 0:00:00|    2938|\n",
            "|   21/6/2020 0:00:00|    2781|\n",
            "|   24/6/2020 0:00:00|    2564|\n",
            "+--------------------+--------+\n",
            "only showing top 10 rows\n",
            "\n"
          ]
        }
      ]
    },
    {
      "cell_type": "markdown",
      "source": [
        "####**3.4. Distribución de casos por edades de covid en Colombia**"
      ],
      "metadata": {
        "id": "ghL2VNRQeQEs"
      }
    },
    {
      "cell_type": "code",
      "source": [
        "df.groupBy('Edad').count().orderBy('Edad',ascending=True).show()"
      ],
      "metadata": {
        "colab": {
          "base_uri": "https://localhost:8080/"
        },
        "id": "1NEYdX7mf_Ek",
        "outputId": "7c3e07ae-72fb-4451-d6a3-e96b9506b261"
      },
      "execution_count": 53,
      "outputs": [
        {
          "output_type": "stream",
          "name": "stdout",
          "text": [
            "+----+-----+\n",
            "|Edad|count|\n",
            "+----+-----+\n",
            "|   1|  485|\n",
            "|   2|  440|\n",
            "|   3|  449|\n",
            "|   4|  373|\n",
            "|   5|  425|\n",
            "|   6|  431|\n",
            "|   7|  442|\n",
            "|   8|  461|\n",
            "|   9|  467|\n",
            "|  10|  530|\n",
            "|  11|  566|\n",
            "|  12|  562|\n",
            "|  13|  531|\n",
            "|  14|  580|\n",
            "|  15|  560|\n",
            "|  16|  600|\n",
            "|  17|  685|\n",
            "|  18| 1160|\n",
            "|  19| 1567|\n",
            "|  20| 1674|\n",
            "+----+-----+\n",
            "only showing top 20 rows\n",
            "\n"
          ]
        }
      ]
    },
    {
      "cell_type": "code",
      "source": [
        "spark.sql(\"\"\"SELECT Edad,\n",
        "COUNT(*)\n",
        "FROM dataset_covid_sql\n",
        "GROUP BY Edad\n",
        "ORDER BY Edad\n",
        "ASC\"\"\").show()"
      ],
      "metadata": {
        "colab": {
          "base_uri": "https://localhost:8080/"
        },
        "id": "MyYndvCMhitm",
        "outputId": "c8792baf-f61f-4dc0-d0a7-8c3925c5a53c"
      },
      "execution_count": 54,
      "outputs": [
        {
          "output_type": "stream",
          "name": "stdout",
          "text": [
            "+----+--------+\n",
            "|Edad|count(1)|\n",
            "+----+--------+\n",
            "|   1|     485|\n",
            "|   2|     440|\n",
            "|   3|     449|\n",
            "|   4|     373|\n",
            "|   5|     425|\n",
            "|   6|     431|\n",
            "|   7|     442|\n",
            "|   8|     461|\n",
            "|   9|     467|\n",
            "|  10|     530|\n",
            "|  11|     566|\n",
            "|  12|     562|\n",
            "|  13|     531|\n",
            "|  14|     580|\n",
            "|  15|     560|\n",
            "|  16|     600|\n",
            "|  17|     685|\n",
            "|  18|    1160|\n",
            "|  19|    1567|\n",
            "|  20|    1674|\n",
            "+----+--------+\n",
            "only showing top 20 rows\n",
            "\n"
          ]
        }
      ]
    },
    {
      "cell_type": "markdown",
      "source": [
        "####**3.5. Realice la pregunta de negocio que quiera sobre los datos y respondala con la correspondiente programación en spark**"
      ],
      "metadata": {
        "id": "fulKWLASkpoT"
      }
    },
    {
      "cell_type": "markdown",
      "source": [
        "Los 5 países con más casos de covid ordenados de mayor a menor"
      ],
      "metadata": {
        "id": "EHGVyTuPqCop"
      }
    },
    {
      "cell_type": "code",
      "source": [
        "df.groupBy('Nombre del país').count().orderBy('count',ascending=False).show(5)"
      ],
      "metadata": {
        "colab": {
          "base_uri": "https://localhost:8080/"
        },
        "id": "iqEzAVVfqUxx",
        "outputId": "73fc2143-6bf8-4455-ce71-da0dbfd67485"
      },
      "execution_count": 55,
      "outputs": [
        {
          "output_type": "stream",
          "name": "stdout",
          "text": [
            "+--------------------+-----+\n",
            "|     Nombre del país|count|\n",
            "+--------------------+-----+\n",
            "|                null|99088|\n",
            "|              ESPAÑA|  258|\n",
            "|ESTADOS UNIDOS DE...|  212|\n",
            "|              BRASIL|   59|\n",
            "|             ECUADOR|   59|\n",
            "+--------------------+-----+\n",
            "only showing top 5 rows\n",
            "\n"
          ]
        }
      ]
    },
    {
      "cell_type": "code",
      "source": [
        "spark.sql(\"\"\"SELECT `Nombre del país`,\n",
        "COUNT(*)\n",
        "FROM dataset_covid_sql\n",
        "GROUP BY `Nombre del país`\n",
        "ORDER BY COUNT(*)\n",
        "DESC\"\"\").show(5)"
      ],
      "metadata": {
        "colab": {
          "base_uri": "https://localhost:8080/"
        },
        "id": "4Ji5811JtMjk",
        "outputId": "27605c4c-9738-48a0-b4ad-0b3e52f3131b"
      },
      "execution_count": 56,
      "outputs": [
        {
          "output_type": "stream",
          "name": "stdout",
          "text": [
            "+--------------------+--------+\n",
            "|     Nombre del país|count(1)|\n",
            "+--------------------+--------+\n",
            "|                null|   99088|\n",
            "|              ESPAÑA|     258|\n",
            "|ESTADOS UNIDOS DE...|     212|\n",
            "|              BRASIL|      59|\n",
            "|             ECUADOR|      59|\n",
            "+--------------------+--------+\n",
            "only showing top 5 rows\n",
            "\n"
          ]
        }
      ]
    }
  ]
}